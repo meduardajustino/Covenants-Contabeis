{
 "cells": [
  {
   "cell_type": "markdown",
   "id": "8ce1ae52",
   "metadata": {},
   "source": [
    "### Análise dos Covenants Contábeis divulgados pelas empresas listadas na B# (2010 a 2022)"
   ]
  },
  {
   "cell_type": "code",
   "execution_count": 2,
   "id": "1c3cab60",
   "metadata": {},
   "outputs": [],
   "source": [
    "## bibliotecas usadas\n",
    "import pandas as pd\n",
    "import os\n",
    "import numpy as np\n",
    "import re \n"
   ]
  },
  {
   "cell_type": "markdown",
   "id": "785e81e0",
   "metadata": {},
   "source": [
    "### A análise começou com a coleta manual das notas explicativas publicadas pelas empresas no site da B3 Investidor, como também da Comissão de Valores Mobiliários (CVM).\n",
    "Após coleta fiz um script para ler todos os pdfs (disponível no github: `link`) e separar em uma pasta todos que citaram covenants ou cláusulas restritivas."
   ]
  },
  {
   "cell_type": "code",
   "execution_count": 8,
   "metadata": {},
   "outputs": [
    {
     "name": "stderr",
     "output_type": "stream",
     "text": [
      "<>:1: SyntaxWarning: invalid escape sequence '\\{'\n",
      "<>:1: SyntaxWarning: invalid escape sequence '\\{'\n",
      "C:\\Users\\Maria Eduarda\\AppData\\Local\\Temp\\ipykernel_72928\\62090819.py:1: SyntaxWarning: invalid escape sequence '\\{'\n",
      "  empresas_df = pd.read_excel(\"M:\\{estudos}\\Python\\Covenants-Contabeis\\Empresas_com_covenants.xlsx\")\n"
     ]
    },
    {
     "data": {
      "text/html": [
       "<div>\n",
       "<style scoped>\n",
       "    .dataframe tbody tr th:only-of-type {\n",
       "        vertical-align: middle;\n",
       "    }\n",
       "\n",
       "    .dataframe tbody tr th {\n",
       "        vertical-align: top;\n",
       "    }\n",
       "\n",
       "    .dataframe thead th {\n",
       "        text-align: right;\n",
       "    }\n",
       "</style>\n",
       "<table border=\"1\" class=\"dataframe\">\n",
       "  <thead>\n",
       "    <tr style=\"text-align: right;\">\n",
       "      <th></th>\n",
       "      <th>Empresa</th>\n",
       "      <th>Quantidade de Anos</th>\n",
       "    </tr>\n",
       "  </thead>\n",
       "  <tbody>\n",
       "    <tr>\n",
       "      <th>0</th>\n",
       "      <td>Hidrovias do Brasil</td>\n",
       "      <td>11</td>\n",
       "    </tr>\n",
       "    <tr>\n",
       "      <th>1</th>\n",
       "      <td>Ambipar Participacoes e Empreendimentos</td>\n",
       "      <td>4</td>\n",
       "    </tr>\n",
       "    <tr>\n",
       "      <th>2</th>\n",
       "      <td>Plano &amp; Plano Desenvolvimento Imobiliario SA</td>\n",
       "      <td>4</td>\n",
       "    </tr>\n",
       "    <tr>\n",
       "      <th>3</th>\n",
       "      <td>Renner</td>\n",
       "      <td>13</td>\n",
       "    </tr>\n",
       "    <tr>\n",
       "      <th>4</th>\n",
       "      <td>B3 SA Brasil Bolsa Balcao</td>\n",
       "      <td>3</td>\n",
       "    </tr>\n",
       "  </tbody>\n",
       "</table>\n",
       "</div>"
      ],
      "text/plain": [
       "                                        Empresa  Quantidade de Anos\n",
       "0                           Hidrovias do Brasil                  11\n",
       "1       Ambipar Participacoes e Empreendimentos                   4\n",
       "2  Plano & Plano Desenvolvimento Imobiliario SA                   4\n",
       "3                                        Renner                  13\n",
       "4                     B3 SA Brasil Bolsa Balcao                   3"
      ]
     },
     "execution_count": 8,
     "metadata": {},
     "output_type": "execute_result"
    }
   ],
   "source": [
    "empresas_df = pd.read_excel(\"M:\\{estudos}\\Python\\Covenants-Contabeis\\Empresas_com_covenants.xlsx\")\n",
    "empresas_df.head()"
   ]
  },
  {
   "cell_type": "code",
   "execution_count": null,
   "id": "ff99f4f3",
   "metadata": {},
   "outputs": [
    {
     "name": "stdout",
     "output_type": "stream",
     "text": [
      "<class 'pandas.core.frame.DataFrame'>\n",
      "RangeIndex: 282 entries, 0 to 281\n",
      "Data columns (total 2 columns):\n",
      " #   Column              Non-Null Count  Dtype \n",
      "---  ------              --------------  ----- \n",
      " 0   Empresa             282 non-null    object\n",
      " 1   Quantidade de Anos  282 non-null    int64 \n",
      "dtypes: int64(1), object(1)\n",
      "memory usage: 4.5+ KB\n"
     ]
    }
   ],
   "source": [
    "empresas_df.info()"
   ]
  },
  {
   "cell_type": "markdown",
   "id": "e3975be6",
   "metadata": {},
   "source": [
    "## Dividindo agora a base de dados da análise manual de todas as notas explicativas que citaram \"covenants\""
   ]
  },
  {
   "cell_type": "code",
   "execution_count": 10,
   "metadata": {},
   "outputs": [
    {
     "name": "stderr",
     "output_type": "stream",
     "text": [
      "<>:1: SyntaxWarning: invalid escape sequence '\\{'\n",
      "<>:1: SyntaxWarning: invalid escape sequence '\\{'\n",
      "C:\\Users\\Maria Eduarda\\AppData\\Local\\Temp\\ipykernel_72928\\3345557802.py:1: SyntaxWarning: invalid escape sequence '\\{'\n",
      "  covenants = pd.read_excel(\"M:\\{estudos}\\Python\\Covenants-Contabeis\\Base Covenants Contabeis.xlsx\")\n"
     ]
    },
    {
     "data": {
      "text/html": [
       "<div>\n",
       "<style scoped>\n",
       "    .dataframe tbody tr th:only-of-type {\n",
       "        vertical-align: middle;\n",
       "    }\n",
       "\n",
       "    .dataframe tbody tr th {\n",
       "        vertical-align: top;\n",
       "    }\n",
       "\n",
       "    .dataframe thead th {\n",
       "        text-align: right;\n",
       "    }\n",
       "</style>\n",
       "<table border=\"1\" class=\"dataframe\">\n",
       "  <thead>\n",
       "    <tr style=\"text-align: right;\">\n",
       "      <th></th>\n",
       "      <th>EMPRESA</th>\n",
       "      <th>ANO</th>\n",
       "      <th>POSSUI COVENANT</th>\n",
       "      <th>DIVULGOU</th>\n",
       "      <th>Debenture ou Empréstimos e financiamento</th>\n",
       "      <th>Índice Utilizado</th>\n",
       "      <th>Limite</th>\n",
       "      <th>Violou?</th>\n",
       "    </tr>\n",
       "  </thead>\n",
       "  <tbody>\n",
       "    <tr>\n",
       "      <th>6266</th>\n",
       "      <td>Zamp</td>\n",
       "      <td>2021.0</td>\n",
       "      <td>SIM</td>\n",
       "      <td>SIM</td>\n",
       "      <td>Debêntures</td>\n",
       "      <td>Dívida Líquida / EBITDA</td>\n",
       "      <td>menor ou igual a 3</td>\n",
       "      <td>SIM</td>\n",
       "    </tr>\n",
       "    <tr>\n",
       "      <th>6267</th>\n",
       "      <td>Zamp</td>\n",
       "      <td>2022.0</td>\n",
       "      <td>SIM</td>\n",
       "      <td>SIM</td>\n",
       "      <td>Debêntures</td>\n",
       "      <td>Dívida Líquida / EBITDA</td>\n",
       "      <td>menor ou igual a 3</td>\n",
       "      <td>NÃO</td>\n",
       "    </tr>\n",
       "    <tr>\n",
       "      <th>6268</th>\n",
       "      <td>Zamp</td>\n",
       "      <td>2022.0</td>\n",
       "      <td>SIM</td>\n",
       "      <td>SIM</td>\n",
       "      <td>Debêntures</td>\n",
       "      <td>Dívida Líquida / EBITDA</td>\n",
       "      <td>menor ou igual a 3</td>\n",
       "      <td>NÃO</td>\n",
       "    </tr>\n",
       "    <tr>\n",
       "      <th>6269</th>\n",
       "      <td>Zamp</td>\n",
       "      <td>2023.0</td>\n",
       "      <td>SIM</td>\n",
       "      <td>SIM</td>\n",
       "      <td>Debêntures</td>\n",
       "      <td>Dívida Líquida / EBITDA</td>\n",
       "      <td>menor ou igual a 3</td>\n",
       "      <td>NÃO</td>\n",
       "    </tr>\n",
       "    <tr>\n",
       "      <th>6270</th>\n",
       "      <td>Zamp</td>\n",
       "      <td>2023.0</td>\n",
       "      <td>SIM</td>\n",
       "      <td>SIM</td>\n",
       "      <td>Debêntures</td>\n",
       "      <td>Dívida Líquida / EBITDA</td>\n",
       "      <td>menor ou igual a 3</td>\n",
       "      <td>NÃO</td>\n",
       "    </tr>\n",
       "  </tbody>\n",
       "</table>\n",
       "</div>"
      ],
      "text/plain": [
       "     EMPRESA     ANO POSSUI COVENANT DIVULGOU  \\\n",
       "6266    Zamp  2021.0             SIM      SIM   \n",
       "6267    Zamp  2022.0             SIM      SIM   \n",
       "6268    Zamp  2022.0             SIM      SIM   \n",
       "6269    Zamp  2023.0             SIM      SIM   \n",
       "6270    Zamp  2023.0             SIM      SIM   \n",
       "\n",
       "     Debenture ou Empréstimos e financiamento         Índice Utilizado  \\\n",
       "6266                               Debêntures  Dívida Líquida / EBITDA   \n",
       "6267                               Debêntures  Dívida Líquida / EBITDA   \n",
       "6268                               Debêntures  Dívida Líquida / EBITDA   \n",
       "6269                               Debêntures  Dívida Líquida / EBITDA   \n",
       "6270                               Debêntures  Dívida Líquida / EBITDA   \n",
       "\n",
       "                  Limite Violou?  \n",
       "6266  menor ou igual a 3     SIM  \n",
       "6267  menor ou igual a 3     NÃO  \n",
       "6268  menor ou igual a 3     NÃO  \n",
       "6269  menor ou igual a 3     NÃO  \n",
       "6270  menor ou igual a 3     NÃO  "
      ]
     },
     "execution_count": 10,
     "metadata": {},
     "output_type": "execute_result"
    }
   ],
   "source": [
    "covenants = pd.read_excel(\"M:\\{estudos}\\Python\\Covenants-Contabeis\\Base Covenants Contabeis.xlsx\")\n",
    "covenants.tail()"
   ]
  },
  {
   "cell_type": "code",
   "execution_count": 11,
   "id": "824fe97e",
   "metadata": {},
   "outputs": [
    {
     "name": "stdout",
     "output_type": "stream",
     "text": [
      "<class 'pandas.core.frame.DataFrame'>\n",
      "RangeIndex: 6271 entries, 0 to 6270\n",
      "Data columns (total 8 columns):\n",
      " #   Column                                    Non-Null Count  Dtype  \n",
      "---  ------                                    --------------  -----  \n",
      " 0   EMPRESA                                   6264 non-null   object \n",
      " 1   ANO                                       6254 non-null   float64\n",
      " 2   POSSUI COVENANT                           6254 non-null   object \n",
      " 3   DIVULGOU                                  5979 non-null   object \n",
      " 4   Debenture ou Empréstimos e financiamento  5238 non-null   object \n",
      " 5   Índice Utilizado                          5197 non-null   object \n",
      " 6   Limite                                    4822 non-null   object \n",
      " 7   Violou?                                   4620 non-null   object \n",
      "dtypes: float64(1), object(7)\n",
      "memory usage: 392.1+ KB\n"
     ]
    }
   ],
   "source": [
    "covenants.info()"
   ]
  },
  {
   "cell_type": "code",
   "execution_count": null,
   "id": "2a068118",
   "metadata": {},
   "outputs": [],
   "source": [
    "covenants['Ano'] = covenants['Data'].dt.year\n",
    "covenants"
   ]
  },
  {
   "cell_type": "code",
   "execution_count": null,
   "metadata": {},
   "outputs": [],
   "source": []
  },
  {
   "cell_type": "code",
   "execution_count": null,
   "metadata": {},
   "outputs": [],
   "source": []
  }
 ],
 "metadata": {
  "kernelspec": {
   "display_name": "Python 3",
   "language": "python",
   "name": "python3"
  },
  "language_info": {
   "codemirror_mode": {
    "name": "ipython",
    "version": 3
   },
   "file_extension": ".py",
   "mimetype": "text/x-python",
   "name": "python",
   "nbconvert_exporter": "python",
   "pygments_lexer": "ipython3",
   "version": "3.13.0"
  }
 },
 "nbformat": 4,
 "nbformat_minor": 5
}
